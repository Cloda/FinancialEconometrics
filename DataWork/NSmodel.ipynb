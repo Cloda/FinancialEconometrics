{
 "cells": [
  {
   "cell_type": "code",
   "execution_count": 80,
   "metadata": {},
   "outputs": [],
   "source": [
    "import numpy as np\n",
    "import pandas as pd \n",
    "from scipy.optimize import least_squares\n",
    "from sklearn.model_selection import train_test_split \n",
    "import matplotlib.pyplot as plt\n",
    "import seaborn as sns"
   ]
  },
  {
   "cell_type": "code",
   "execution_count": 79,
   "metadata": {},
   "outputs": [],
   "source": [
    "df1 = pd.read_csv(\"Data/YC2003_2008.csv\")\n",
    "df2 = pd.read_csv(\"Data/YC2008_2013.csv\")\n",
    "df3 = pd.read_csv(\"Data/YC2013_2018.csv\")\n",
    "df4 = pd.read_csv(\"Data/YC2018_2023.csv\")\n",
    "df5 = pd.read_csv(\"Data/YC2023.csv\")"
   ]
  },
  {
   "cell_type": "code",
   "execution_count": 66,
   "metadata": {},
   "outputs": [],
   "source": [
    "df = pd.concat([df1[::-1], df2[::-1], df3[::-1], df4[::-1], df5[::-1]])"
   ]
  },
  {
   "cell_type": "code",
   "execution_count": 69,
   "metadata": {},
   "outputs": [],
   "source": [
    "df = df.reset_index()"
   ]
  },
  {
   "cell_type": "code",
   "execution_count": 74,
   "metadata": {},
   "outputs": [],
   "source": [
    "df = df.drop([\"Unnamed: 0\", \"index\"], axis=1)"
   ]
  },
  {
   "cell_type": "code",
   "execution_count": 76,
   "metadata": {},
   "outputs": [],
   "source": [
    "df.to_csv(\"YCgen.csv\")"
   ]
  },
  {
   "cell_type": "markdown",
   "metadata": {},
   "source": [
    "### Реализация фита модели для одного набора переменных"
   ]
  },
  {
   "cell_type": "code",
   "execution_count": 81,
   "metadata": {},
   "outputs": [],
   "source": [
    "def fun(x, time: np.array, profit: np.array):\n",
    "            return x[0] + (x[1] + x[2]) * (x[3] / time) * (1 - np.exp(- time / x[3])) - x[2] * np.exp(- time / x[3]) - profit\n",
    "\n",
    "Times = np.array([0.25,0.5,0.75,1.0,2.0,3.0,5.0,7.0,10.0,15.0,20.0,30.0])\n",
    "\n",
    "Profits = np.array([12.74,13.1,13.5,13.9,15.14,15.51,15.13,14.31,13.15,11.83,11.04,10.23])\n",
    "\n",
    "res_lsq = least_squares(fun, np.array([1., 1., 1., 1.]), args=(Times, 100* Profits))"
   ]
  },
  {
   "cell_type": "markdown",
   "metadata": {},
   "source": [
    "### Формирование основного датасета"
   ]
  },
  {
   "cell_type": "code",
   "execution_count": 82,
   "metadata": {},
   "outputs": [],
   "source": [
    "df = pd.read_csv(\"Data/YCgen.csv\")"
   ]
  },
  {
   "cell_type": "code",
   "execution_count": 84,
   "metadata": {},
   "outputs": [],
   "source": [
    "df = df.drop([\"Unnamed: 0\"], axis=1)"
   ]
  },
  {
   "cell_type": "code",
   "execution_count": 85,
   "metadata": {},
   "outputs": [
    {
     "data": {
      "text/html": [
       "<div>\n",
       "<style scoped>\n",
       "    .dataframe tbody tr th:only-of-type {\n",
       "        vertical-align: middle;\n",
       "    }\n",
       "\n",
       "    .dataframe tbody tr th {\n",
       "        vertical-align: top;\n",
       "    }\n",
       "\n",
       "    .dataframe thead th {\n",
       "        text-align: right;\n",
       "    }\n",
       "</style>\n",
       "<table border=\"1\" class=\"dataframe\">\n",
       "  <thead>\n",
       "    <tr style=\"text-align: right;\">\n",
       "      <th></th>\n",
       "      <th>date</th>\n",
       "      <th>0.25</th>\n",
       "      <th>0.5</th>\n",
       "      <th>0.75</th>\n",
       "      <th>1.0</th>\n",
       "      <th>2.0</th>\n",
       "      <th>3.0</th>\n",
       "      <th>5.0</th>\n",
       "      <th>7.0</th>\n",
       "      <th>10.0</th>\n",
       "      <th>15.0</th>\n",
       "      <th>20.0</th>\n",
       "      <th>30.0</th>\n",
       "    </tr>\n",
       "  </thead>\n",
       "  <tbody>\n",
       "    <tr>\n",
       "      <th>0</th>\n",
       "      <td>2003-01-04</td>\n",
       "      <td>11.68</td>\n",
       "      <td>12.31</td>\n",
       "      <td>12.76</td>\n",
       "      <td>13.08</td>\n",
       "      <td>13.63</td>\n",
       "      <td>13.72</td>\n",
       "      <td>13.63</td>\n",
       "      <td>13.53</td>\n",
       "      <td>13.45</td>\n",
       "      <td>13.38</td>\n",
       "      <td>13.35</td>\n",
       "      <td>13.32</td>\n",
       "    </tr>\n",
       "    <tr>\n",
       "      <th>1</th>\n",
       "      <td>2003-01-05</td>\n",
       "      <td>11.09</td>\n",
       "      <td>11.70</td>\n",
       "      <td>12.16</td>\n",
       "      <td>12.50</td>\n",
       "      <td>13.14</td>\n",
       "      <td>13.30</td>\n",
       "      <td>13.31</td>\n",
       "      <td>13.27</td>\n",
       "      <td>13.23</td>\n",
       "      <td>13.20</td>\n",
       "      <td>13.19</td>\n",
       "      <td>13.17</td>\n",
       "    </tr>\n",
       "    <tr>\n",
       "      <th>2</th>\n",
       "      <td>2003-01-08</td>\n",
       "      <td>10.84</td>\n",
       "      <td>11.61</td>\n",
       "      <td>12.15</td>\n",
       "      <td>12.53</td>\n",
       "      <td>13.18</td>\n",
       "      <td>13.30</td>\n",
       "      <td>13.29</td>\n",
       "      <td>13.24</td>\n",
       "      <td>13.19</td>\n",
       "      <td>13.15</td>\n",
       "      <td>13.13</td>\n",
       "      <td>13.11</td>\n",
       "    </tr>\n",
       "    <tr>\n",
       "      <th>3</th>\n",
       "      <td>2003-01-09</td>\n",
       "      <td>10.46</td>\n",
       "      <td>11.13</td>\n",
       "      <td>11.67</td>\n",
       "      <td>12.09</td>\n",
       "      <td>13.02</td>\n",
       "      <td>13.31</td>\n",
       "      <td>13.38</td>\n",
       "      <td>13.32</td>\n",
       "      <td>13.25</td>\n",
       "      <td>13.19</td>\n",
       "      <td>13.16</td>\n",
       "      <td>13.13</td>\n",
       "    </tr>\n",
       "    <tr>\n",
       "      <th>4</th>\n",
       "      <td>2003-01-10</td>\n",
       "      <td>10.10</td>\n",
       "      <td>11.08</td>\n",
       "      <td>11.79</td>\n",
       "      <td>12.28</td>\n",
       "      <td>13.14</td>\n",
       "      <td>13.31</td>\n",
       "      <td>13.27</td>\n",
       "      <td>13.19</td>\n",
       "      <td>13.11</td>\n",
       "      <td>13.04</td>\n",
       "      <td>13.00</td>\n",
       "      <td>12.97</td>\n",
       "    </tr>\n",
       "  </tbody>\n",
       "</table>\n",
       "</div>"
      ],
      "text/plain": [
       "         date   0.25    0.5   0.75    1.0    2.0    3.0    5.0    7.0   10.0  \\\n",
       "0  2003-01-04  11.68  12.31  12.76  13.08  13.63  13.72  13.63  13.53  13.45   \n",
       "1  2003-01-05  11.09  11.70  12.16  12.50  13.14  13.30  13.31  13.27  13.23   \n",
       "2  2003-01-08  10.84  11.61  12.15  12.53  13.18  13.30  13.29  13.24  13.19   \n",
       "3  2003-01-09  10.46  11.13  11.67  12.09  13.02  13.31  13.38  13.32  13.25   \n",
       "4  2003-01-10  10.10  11.08  11.79  12.28  13.14  13.31  13.27  13.19  13.11   \n",
       "\n",
       "    15.0   20.0   30.0  \n",
       "0  13.38  13.35  13.32  \n",
       "1  13.20  13.19  13.17  \n",
       "2  13.15  13.13  13.11  \n",
       "3  13.19  13.16  13.13  \n",
       "4  13.04  13.00  12.97  "
      ]
     },
     "execution_count": 85,
     "metadata": {},
     "output_type": "execute_result"
    }
   ],
   "source": [
    "df.head()"
   ]
  },
  {
   "cell_type": "code",
   "execution_count": 86,
   "metadata": {},
   "outputs": [
    {
     "name": "stderr",
     "output_type": "stream",
     "text": [
      "/tmp/ipykernel_14349/2036753993.py:2: RuntimeWarning: overflow encountered in exp\n",
      "  return x[0] + (x[1] + x[2]) * (x[3] / time) * (1 - np.exp(- time / x[3])) - x[2] * np.exp(- time / x[3]) - profit\n",
      "/tmp/ipykernel_14349/2036753993.py:2: RuntimeWarning: overflow encountered in multiply\n",
      "  return x[0] + (x[1] + x[2]) * (x[3] / time) * (1 - np.exp(- time / x[3])) - x[2] * np.exp(- time / x[3]) - profit\n",
      "/tmp/ipykernel_14349/2036753993.py:2: RuntimeWarning: invalid value encountered in subtract\n",
      "  return x[0] + (x[1] + x[2]) * (x[3] / time) * (1 - np.exp(- time / x[3])) - x[2] * np.exp(- time / x[3]) - profit\n"
     ]
    }
   ],
   "source": [
    "beta0 = np.array([])\n",
    "beta1 = np.array([])\n",
    "beta2 = np.array([])\n",
    "tau = np.array([])\n",
    "\n",
    "WLbeta0 = np.array([])\n",
    "WLbeta1 = np.array([])\n",
    "WLbeta2 = np.array([])\n",
    "WLtau = np.array([])\n",
    "\n",
    "p3   = df[\"0.25\"].astype(float)\n",
    "p6   = df[\"0.5\"].astype(float)\n",
    "p9  = df[\"0.75\"].astype(float)\n",
    "p12  = df[\"1.0\"].astype(float)\n",
    "p24  = df[\"2.0\"].astype(float)\n",
    "p36  = df[\"3.0\"].astype(float)\n",
    "p60  = df[\"5.0\"].astype(float)\n",
    "p84 = df[\"7.0\"].astype(float)\n",
    "p120  = df[\"10.0\"].astype(float)\n",
    "p180  = df[\"15.0\"].astype(float)\n",
    "p240  = df[\"20.0\"].astype(float)\n",
    "p360 = df[\"30.0\"].astype(float)\n",
    "\n",
    "Times = np.array(np.array([0.25,0.5,0.75,1.0,2.0,3.0,5.0,7.0,10.0,15.0,20.0,30.0]))\n",
    "WLTimes = np.array(np.array([0.25,0.5,0.75,1.0,2.0,3.0,5.0,7.0,10.0]))\n",
    "\n",
    "for i in range(len(p3)):\n",
    "    WLProfits = np.array([p3[i], p6[i], p9[i], p12[i], p24[i], p36[i], p60[i], p84[i], p120[i]])\n",
    "    Profits = np.array([p3[i], p6[i], p9[i], p12[i], p24[i], p36[i], p60[i], p84[i], p120[i], p180[i], p240[i], p360[i]])\n",
    "\n",
    "    res_lsq = least_squares(fun, np.array([850., -300., 100., 1.5]), args=(WLTimes, 100 * WLProfits))\n",
    "\n",
    "    WLbeta0 = np.append(WLbeta0, res_lsq.x[0])\n",
    "    WLbeta1 = np.append(WLbeta1, res_lsq.x[1])\n",
    "    WLbeta2 = np.append(WLbeta2, res_lsq.x[2])\n",
    "    WLtau = np.append(WLtau, res_lsq.x[3])\n",
    "\n",
    "    res_lsq = least_squares(fun, np.array([850., -300., 100., 1.5]), args=(Times, 100 * Profits))\n",
    "\n",
    "    beta0 = np.append(beta0, res_lsq.x[0])\n",
    "    beta1 = np.append(beta1, res_lsq.x[1])\n",
    "    beta2 = np.append(beta2, res_lsq.x[2])\n",
    "    tau = np.append(tau, res_lsq.x[3])"
   ]
  },
  {
   "cell_type": "code",
   "execution_count": 87,
   "metadata": {},
   "outputs": [],
   "source": [
    "df2 = df"
   ]
  },
  {
   "cell_type": "code",
   "execution_count": 88,
   "metadata": {},
   "outputs": [],
   "source": [
    "df[\"beta0\"] = beta0\n",
    "df[\"beta1\"] = beta1\n",
    "df[\"beta2\"] = beta2\n",
    "df[\"tau\"] = tau"
   ]
  },
  {
   "cell_type": "code",
   "execution_count": 89,
   "metadata": {},
   "outputs": [],
   "source": [
    "df2[\"WLbeta0\"] = WLbeta0\n",
    "df2[\"WLbeta1\"] = WLbeta1\n",
    "df2[\"WLbeta2\"] = WLbeta2\n",
    "df2[\"WLtau\"] = WLtau"
   ]
  },
  {
   "cell_type": "code",
   "execution_count": 91,
   "metadata": {},
   "outputs": [],
   "source": [
    "df.to_csv(\"General_ds.csv\")"
   ]
  }
 ],
 "metadata": {
  "kernelspec": {
   "display_name": "Python 3",
   "language": "python",
   "name": "python3"
  },
  "language_info": {
   "codemirror_mode": {
    "name": "ipython",
    "version": 3
   },
   "file_extension": ".py",
   "mimetype": "text/x-python",
   "name": "python",
   "nbconvert_exporter": "python",
   "pygments_lexer": "ipython3",
   "version": "3.11.6"
  }
 },
 "nbformat": 4,
 "nbformat_minor": 2
}
